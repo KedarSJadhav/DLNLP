{
  "nbformat": 4,
  "nbformat_minor": 0,
  "metadata": {
    "colab": {
      "name": "24_NLPPractical_1_inaugural.ipynb",
      "provenance": [],
      "collapsed_sections": []
    },
    "kernelspec": {
      "name": "python3",
      "display_name": "Python 3"
    },
    "language_info": {
      "name": "python"
    }
  },
  "cells": [
    {
      "cell_type": "code",
      "execution_count": null,
      "metadata": {
        "id": "Esd62mBWSZZx"
      },
      "outputs": [],
      "source": [
        "import nltk"
      ]
    },
    {
      "cell_type": "code",
      "source": [
        "nltk.__file__"
      ],
      "metadata": {
        "colab": {
          "base_uri": "https://localhost:8080/",
          "height": 35
        },
        "id": "agkKHjbUSl0-",
        "outputId": "632b6a30-75ef-454a-f8dd-5d6803f9d05f"
      },
      "execution_count": null,
      "outputs": [
        {
          "output_type": "execute_result",
          "data": {
            "text/plain": [
              "'/usr/local/lib/python3.7/dist-packages/nltk/__init__.py'"
            ],
            "application/vnd.google.colaboratory.intrinsic+json": {
              "type": "string"
            }
          },
          "metadata": {},
          "execution_count": 2
        }
      ]
    },
    {
      "cell_type": "code",
      "source": [
        "nltk.download('inaugural')"
      ],
      "metadata": {
        "colab": {
          "base_uri": "https://localhost:8080/"
        },
        "id": "DSemM1R4SqNM",
        "outputId": "437fad4a-5360-444e-e1e6-746cecce97ca"
      },
      "execution_count": null,
      "outputs": [
        {
          "output_type": "stream",
          "name": "stderr",
          "text": [
            "[nltk_data] Downloading package inaugural to /root/nltk_data...\n",
            "[nltk_data]   Unzipping corpora/inaugural.zip.\n"
          ]
        },
        {
          "output_type": "execute_result",
          "data": {
            "text/plain": [
              "True"
            ]
          },
          "metadata": {},
          "execution_count": 3
        }
      ]
    },
    {
      "cell_type": "code",
      "source": [
        "from google.colab import drive\n",
        "drive.mount('/content/drive')"
      ],
      "metadata": {
        "colab": {
          "base_uri": "https://localhost:8080/"
        },
        "id": "v17p_TofSx2U",
        "outputId": "cd0bd952-48d5-465f-f1b1-a58d44157076"
      },
      "execution_count": null,
      "outputs": [
        {
          "output_type": "stream",
          "name": "stdout",
          "text": [
            "Mounted at /content/drive\n"
          ]
        }
      ]
    },
    {
      "cell_type": "code",
      "source": [
        "nltk.download('inaugural')"
      ],
      "metadata": {
        "colab": {
          "base_uri": "https://localhost:8080/"
        },
        "id": "21rGkz9KS-c0",
        "outputId": "2d32b5a5-6fc5-4fef-b564-736174e04303"
      },
      "execution_count": null,
      "outputs": [
        {
          "output_type": "stream",
          "name": "stderr",
          "text": [
            "[nltk_data] Downloading package inaugural to /root/nltk_data...\n",
            "[nltk_data]   Package inaugural is already up-to-date!\n"
          ]
        },
        {
          "output_type": "execute_result",
          "data": {
            "text/plain": [
              "True"
            ]
          },
          "metadata": {},
          "execution_count": 5
        }
      ]
    },
    {
      "cell_type": "code",
      "source": [
        "nltk.corpus.inaugural.fileids()"
      ],
      "metadata": {
        "colab": {
          "base_uri": "https://localhost:8080/"
        },
        "id": "_zkfitWUTMMV",
        "outputId": "a60b91b2-a664-4fe2-da43-387cd403d809"
      },
      "execution_count": null,
      "outputs": [
        {
          "output_type": "execute_result",
          "data": {
            "text/plain": [
              "['1789-Washington.txt',\n",
              " '1793-Washington.txt',\n",
              " '1797-Adams.txt',\n",
              " '1801-Jefferson.txt',\n",
              " '1805-Jefferson.txt',\n",
              " '1809-Madison.txt',\n",
              " '1813-Madison.txt',\n",
              " '1817-Monroe.txt',\n",
              " '1821-Monroe.txt',\n",
              " '1825-Adams.txt',\n",
              " '1829-Jackson.txt',\n",
              " '1833-Jackson.txt',\n",
              " '1837-VanBuren.txt',\n",
              " '1841-Harrison.txt',\n",
              " '1845-Polk.txt',\n",
              " '1849-Taylor.txt',\n",
              " '1853-Pierce.txt',\n",
              " '1857-Buchanan.txt',\n",
              " '1861-Lincoln.txt',\n",
              " '1865-Lincoln.txt',\n",
              " '1869-Grant.txt',\n",
              " '1873-Grant.txt',\n",
              " '1877-Hayes.txt',\n",
              " '1881-Garfield.txt',\n",
              " '1885-Cleveland.txt',\n",
              " '1889-Harrison.txt',\n",
              " '1893-Cleveland.txt',\n",
              " '1897-McKinley.txt',\n",
              " '1901-McKinley.txt',\n",
              " '1905-Roosevelt.txt',\n",
              " '1909-Taft.txt',\n",
              " '1913-Wilson.txt',\n",
              " '1917-Wilson.txt',\n",
              " '1921-Harding.txt',\n",
              " '1925-Coolidge.txt',\n",
              " '1929-Hoover.txt',\n",
              " '1933-Roosevelt.txt',\n",
              " '1937-Roosevelt.txt',\n",
              " '1941-Roosevelt.txt',\n",
              " '1945-Roosevelt.txt',\n",
              " '1949-Truman.txt',\n",
              " '1953-Eisenhower.txt',\n",
              " '1957-Eisenhower.txt',\n",
              " '1961-Kennedy.txt',\n",
              " '1965-Johnson.txt',\n",
              " '1969-Nixon.txt',\n",
              " '1973-Nixon.txt',\n",
              " '1977-Carter.txt',\n",
              " '1981-Reagan.txt',\n",
              " '1985-Reagan.txt',\n",
              " '1989-Bush.txt',\n",
              " '1993-Clinton.txt',\n",
              " '1997-Clinton.txt',\n",
              " '2001-Bush.txt',\n",
              " '2005-Bush.txt',\n",
              " '2009-Obama.txt',\n",
              " '2013-Obama.txt',\n",
              " '2017-Trump.txt',\n",
              " '2021-Biden.txt']"
            ]
          },
          "metadata": {},
          "execution_count": 7
        }
      ]
    },
    {
      "cell_type": "code",
      "source": [
        "from nltk.corpus import inaugural"
      ],
      "metadata": {
        "id": "MkQLPTjbTTw8"
      },
      "execution_count": null,
      "outputs": []
    },
    {
      "cell_type": "code",
      "source": [
        "inaugural.raw('1977-Carter.txt')"
      ],
      "metadata": {
        "colab": {
          "base_uri": "https://localhost:8080/",
          "height": 244
        },
        "id": "uhlKbbawTp00",
        "outputId": "48261927-67a6-4a04-eb3c-db620c531934"
      },
      "execution_count": null,
      "outputs": [
        {
          "output_type": "execute_result",
          "data": {
            "text/plain": [
              "'For myself and for our Nation, I want to thank my predecessor for all he has done to heal our land.\\n\\nIn this outward and physical ceremony we attest once again to the inner and spiritual strength of our Nation. As my high school teacher, Miss Julia Coleman, used to say: \"We must adjust to changing times and still hold to unchanging principles.\"\\n\\nHere before me is the Bible used in the inauguration of our first President, in 1789, and I have just taken the oath of office on the Bible my mother gave me a few years ago, opened to a timeless admonition from the ancient prophet Micah:\\n\\n\"He hath showed thee, O man, what is good; and what doth the Lord require of thee, but to do justly, and to love mercy, and to walk humbly with thy God.\" (Micah 6: 8) This inauguration ceremony marks a new beginning, a new dedication within our Government, and a new spirit among us all. A President may sense and proclaim that new spirit, but only a people can provide it.\\n\\nTwo centuries ago our Nation\\'s birth was a milestone in the long quest for freedom, but the bold and brilliant dream which excited the founders of this Nation still awaits its consummation. I have no new dream to set forth today, but rather urge a fresh faith in the old dream.\\n\\nOurs was the first society openly to define itself in terms of both spirituality and of human liberty. It is that unique self- definition which has given us an exceptional appeal, but it also imposes on us a special obligation, to take on those moral duties which, when assumed, seem invariably to be in our own best interests.\\n\\nYou have given me a great responsibility--to stay close to you, to be worthy of you, and to exemplify what you are. Let us create together a new national spirit of unity and trust. Your strength can compensate for my weakness, and your wisdom can help to minimize my mistakes.\\n\\nLet us learn together and laugh together and work together and pray together, confident that in the end we will triumph together in the right.\\n\\nThe American dream endures. We must once again have full faith in our country -- and in one another. I believe America can be better. We can be even stronger than before.\\n\\nLet our recent mistakes bring a resurgent commitment to the basic principles of our Nation, for we know that if we despise our own government we have no future. We recall in special times when we have stood briefly, but magnificently, united. In those times no prize was beyond our grasp.\\n\\nBut we cannot dwell upon remembered glory. We cannot afford to drift. We reject the prospect of failure or mediocrity or an inferior quality of life for any person. Our Government must at the same time be both competent and compassionate.\\n\\nWe have already found a high degree of personal liberty, and we are now struggling to enhance equality of opportunity. Our commitment to human rights must be absolute, our laws fair, our natural beauty preserved; the powerful must not persecute the weak, and human dignity must be enhanced.\\n\\nWe have learned that more is not necessarily better, that even our great Nation has its recognized limits, and that we can neither answer all questions nor solve all problems. We cannot afford to do everything, nor can we afford to lack boldness as we meet the future. So, together, in a spirit of individual sacrifice for the common good, we must simply do our best.\\n\\nOur Nation can be strong abroad only if it is strong at home. And we know that the best way to enhance freedom in other lands is to demonstrate here that our democratic system is worthy of emulation.\\n\\nTo be true to ourselves, we must be true to others. We will not behave in foreign places so as to violate our rules and standards here at home, for we know that the trust which our Nation earns is essential to our strength.\\n\\nThe world itself is now dominated by a new spirit. People are more numerous and more politically aware are craving and now demanding their place in the sun -- not just for the benefit of their own physical condition, but for basic human rights.\\n\\nThe passion for freedom is on the rise. Tapping this new spirit, there can be no nobler nor more ambitious task for America to undertake on this day of a new beginning than to help shape a just and peaceful world that is truly humane.\\n\\nWe are a strong nation, and we will maintain strength so sufficient that it need not be proven in combat -- a quiet strength based not merely on the size of an arsenal, but on the nobility of ideas.\\n\\nWe will be ever vigilant and never vulnerable, and we will fight our wars against poverty, ignorance, and injustice -- for those are the enemies against which our forces can be honorably marshaled.\\n\\nWe are a purely idealistic Nation, but let no one confuse our idealism with weakness.\\n\\nBecause we are free we can never be indifferent to the fate of freedom elsewhere. Our moral sense dictates a clearcut preference for these societies which share with us an abiding respect for individual human rights. We do not seek to intimidate, but it is clear that a world which others can dominate with impunity would be inhospitable to decency and a threat to the well-being of all people.\\n\\nThe world is still engaged in a massive armaments race designed to ensure continuing equivalent strength among potential adversaries. We pledge perseverance and wisdom in our efforts to limit the world\\'s armaments to those necessary for each nation\\'s own domestic safety. And we will move this year a step toward ultimate goal -- the elimination of all nuclear weapons from this Earth. We urge all other people to join us, for success can mean life instead of death.\\n\\nWithin us, the people of the United States, there is evident a serious and purposeful rekindling of confidence. And I join in the hope that when my time as your President has ended, people might say this about our Nation: That we had remembered the words of Micah and renewed our search for humility, mercy, and justice; - that we had torn down the barriers that separated those of different race and region and religion, and where there had been mistrust, built unity, with a respect for diversity; - that we had found productive work for those able to perform it; - that we had strengthened the American family, which is the basi of our society; - that we had ensured respect for the law, and equal treatment under the law, for the weak and the powerful, for the rich and the poor; - and that we had enabled our people to be proud of their own Government once again.\\n\\nI would hope that the nations of the world might say that we had built a lasting peace, built not on weapons of war but on international policies which reflect our own most precious values.\\n\\nThese are not just my goals, and they will not be my accomplishments, but the affirmation of our Nation\\'s continuing moral strength and our belief in an undiminished, ever-expanding American dream.\\n'"
            ],
            "application/vnd.google.colaboratory.intrinsic+json": {
              "type": "string"
            }
          },
          "metadata": {},
          "execution_count": 9
        }
      ]
    },
    {
      "cell_type": "code",
      "source": [
        "inaugural.raw('1925-Coolidge.txt')"
      ],
      "metadata": {
        "colab": {
          "base_uri": "https://localhost:8080/",
          "height": 244
        },
        "id": "RC79VH-BTyKF",
        "outputId": "7a8bc5ba-206c-426a-ade7-72ff18a0570d"
      },
      "execution_count": null,
      "outputs": [
        {
          "output_type": "execute_result",
          "data": {
            "text/plain": [
              "'My countrymen,\\n\\nno one can contemplate current conditions without finding much that is satisfying and still more that is encouraging. Our own country is leading the world in the general readjustment to the results of the great conflict. Many of its burdens will bear heavily upon us for years, and the secondary and indirect effects we must expect to experience for some time. But we are beginning to comprehend more definitely what course should be pursued, what remedies ought to be applied, what actions should be taken for our deliverance, and are clearly manifesting a determined will faithfully and conscientiously to adopt these methods of relief. Already we have sufficiently rearranged our domestic affairs so that confidence has returned, business has revived, and we appear to be entering an era of prosperity which is gradually reaching into every part of the Nation. Realizing that we can not live unto ourselves alone, we have contributed of our resources and our counsel to the relief of the suffering and the settlement of the disputes among the European nations. Because of what America is and what America has done, a firmer courage, a higher hope, inspires the heart of all humanity.\\n\\nThese results have not occurred by mere chance. They have been secured by a constant and enlightened effort marked by many sacrifices and extending over many generations. We can not continue these brilliant successes in the future, unless we continue to learn from the past. It is necessary to keep the former experiences of our country both at home and abroad continually before us, if we are to have any science of government. If we wish to erect new structures, we must have a definite knowledge of the old foundations. We must realize that human nature is about the most constant thing in the universe and that the essentials of human relationship do not change. We must frequently take our bearings from these fixed stars of our political firmament if we expect to hold a true course. If we examine carefully what we have done, we can determine the more accurately what we can do.\\n\\nWe stand at the opening of the one hundred and fiftieth year since our national consciousness first asserted itself by unmistakable action with an array of force. The old sentiment of detached and dependent colonies disappeared in the new sentiment of a united and independent Nation. Men began to discard the narrow confines of a local charter for the broader opportunities of a national constitution. Under the eternal urge of freedom we became an independent Nation. A little less than 50 years later that freedom and independence were reasserted in the face of all the world, and guarded, supported, and secured by the Monroe doctrine. The narrow fringe of States along the Atlantic seaboard advanced its frontiers across the hills and plains of an intervening continent until it passed down the golden slope to the Pacific. We made freedom a birthright. We extended our domain over distant islands in order to safeguard our own interests and accepted the consequent obligation to bestow justice and liberty upon less favored peoples. In the defense of our own ideals and in the general cause of liberty we entered the Great War. When victory had been fully secured, we withdrew to our own shores unrecompensed save in the consciousness of duty done.\\n\\nThroughout all these experiences we have enlarged our freedom, we have strengthened our independence. We have been, and propose to be, more and more American. We believe that we can best serve our own country and most successfully discharge our obligations to humanity by continuing to be openly and candidly, in tensely and scrupulously, American. If we have any heritage, it has been that. If we have any destiny, we have found it in that direction.\\n\\nBut if we wish to continue to be distinctively American, we must continue to make that term comprehensive enough to embrace the legitimate desires of a civilized and enlightened people determined in all their relations to pursue a conscientious and religious life. We can not permit ourselves to be narrowed and dwarfed by slogans and phrases. It is not the adjective, but the substantive, which is of real importance. It is not the name of the action, but the result of the action, which is the chief concern. It will be well not to be too much disturbed by the thought of either isolation or entanglement of pacifists and militarists. The physical configuration of the earth has separated us from all of the Old World, but the common brotherhood of man, the highest law of all our being, has united us by inseparable bonds with all humanity. Our country represents nothing but peaceful intentions toward all the earth, but it ought not to fail to maintain such a military force as comports with the dignity and security of a great people. It ought to be a balanced force, intensely modem, capable of defense by sea and land, beneath the surface and in the air. But it should be so conducted that all the world may see in it, not a menace, but an instrument of security and peace.\\n\\nThis Nation believes thoroughly in an honorable peace under which the rights of its citizens are to be everywhere protected. It has never found that the necessary enjoyment of such a peace could be maintained only by a great and threatening array of arms. In common with other nations, it is now more determined than ever to promote peace through friendliness and good will, through mutual understandings and mutual forbearance. We have never practiced the policy of competitive armaments. We have recently committed ourselves by covenants with the other great nations to a limitation of our sea power. As one result of this, our Navy ranks larger, in comparison, than it ever did before. Removing the burden of expense and jealousy, which must always accrue from a keen rivalry, is one of the most effective methods of diminishing that unreasonable hysteria and misunderstanding which are the most potent means of fomenting war. This policy represents a new departure in the world. It is a thought, an ideal, which has led to an entirely new line of action. It will not be easy to maintain. Some never moved from their old positions, some are constantly slipping back to the old ways of thought and the old action of seizing a musket and relying on force. America has taken the lead in this new direction, and that lead America must continue to hold. If we expect others to rely on our fairness and justice we must show that we rely on their fairness and justice.\\n\\nIf we are to judge by past experience, there is much to be hoped for in international relations from frequent conferences and consultations. We have before us the beneficial results of the Washington conference and the various consultations recently held upon European affairs, some of which were in response to our suggestions and in some of which we were active participants. Even the failures can not but be accounted useful and an immeasurable advance over threatened or actual warfare. I am strongly in favor of continuation of this policy, whenever conditions are such that there is even a promise that practical and favorable results might be secured.\\n\\nIn conformity with the principle that a display of reason rather than a threat of force should be the determining factor in the intercourse among nations, we have long advocated the peaceful settlement of disputes by methods of arbitration and have negotiated many treaties to secure that result. The same considerations should lead to our adherence to the Permanent Court of International Justice. Where great principles are involved, where great movements are under way which promise much for the welfare of humanity by reason of the very fact that many other nations have given such movements their actual support, we ought not to withhold our own sanction because of any small and inessential difference, but only upon the ground of the most important and compelling fundamental reasons. We can not barter away our independence or our sovereignty, but we ought to engage in no refinements of logic, no sophistries, and no subterfuges, to argue away the undoubted duty of this country by reason of the might of its numbers, the power of its resources, and its position of leadership in the world, actively and comprehensively to signify its approval and to bear its full share of the responsibility of a candid and disinterested attempt at the establishment of a tribunal for the administration of even-handed justice between nation and nation. The weight of our enormous influence must be cast upon the side of a reign not of force but of law and trial, not by battle but by reason.\\n\\nWe have never any wish to interfere in the political conditions of any other countries. Especially are we determined not to become implicated in the political controversies of the Old World. With a great deal of hesitation, we have responded to appeals for help to maintain order, protect life and property, and establish responsible government in some of the small countries of the Western Hemisphere. Our private citizens have advanced large sums of money to assist in the necessary financing and relief of the Old World. We have not failed, nor shall we fail to respond, whenever necessary to mitigate human suffering and assist in the rehabilitation of distressed nations. These, too, are requirements which must be met by reason of our vast powers and the place we hold in the world.\\n\\nSome of the best thought of mankind has long been seeking for a formula for permanent peace. Undoubtedly the clarification of the principles of international law would be helpful, and the efforts of scholars to prepare such a work for adoption by the various nations should have our sympathy and support. Much may be hoped for from the earnest studies of those who advocate the outlawing of aggressive war. But all these plans and preparations, these treaties and covenants, will not of themselves be adequate. One of the greatest dangers to peace lies in the economic pressure to which people find themselves subjected. One of the most practical things to be done in the world is to seek arrangements under which such pressure may be removed, so that opportunity may be renewed and hope may be revived. There must be some assurance that effort and endeavor will be followed by success and prosperity. In the making and financing of such adjustments there is not only an opportunity, but a real duty, for America to respond with her counsel and her resources. Conditions must be provided under which people can make a living and work out of their difficulties. But there is another element, more important than all, without which there can not be the slightest hope of a permanent peace. That element lies in the heart of humanity. Unless the desire for peace be cherished there, unless this fundamental and only natural source of brotherly love be cultivated to its highest degree, all artificial efforts will be in vain. Peace will come when there is realization that only under a reign of law, based on righteousness and supported by the religious conviction of the brotherhood of man, can there be any hope of a complete and satisfying life. Parchment will fail, the sword will fail, it is only the spiritual nature of man that can be triumphant.\\n\\nIt seems altogether probable that we can contribute most to these important objects by maintaining our position of political detachment and independence. We are not identified with any Old World interests. This position should be made more and more clear in our relations with all foreign countries. We are at peace with all of them. Our program is never to oppress, but always to assist. But while we do justice to others, we must require that justice be done to us. With us a treaty of peace means peace, and a treaty of amity means amity. We have made great contributions to the settlement of contentious differences in both Europe and Asia. But there is a very definite point beyond which we can not go. We can only help those who help themselves. Mindful of these limitations, the one great duty that stands out requires us to use our enormous powers to trim the balance of the world.\\n\\nWhile we can look with a great deal of pleasure upon what we have done abroad, we must remember that our continued success in that direction depends upon what we do at home. Since its very outset, it has been found necessary to conduct our Government by means of political parties. That system would not have survived from generation to generation if it had not been fundamentally sound and provided the best instrumentalities for the most complete expression of the popular will. It is not necessary to claim that it has always worked perfectly. It is enough to know that nothing better has been devised. No one would deny that there should be full and free expression and an opportunity for independence of action within the party. There is no salvation in a narrow and bigoted partisanship. But if there is to be responsible party government, the party label must be something more than a mere device for securing office. Unless those who are elected under the same party designation are willing to assume sufficient responsibility and exhibit sufficient loyalty and coherence, so that they can cooperate with each other in the support of the broad general principles, of the party platform, the election is merely a mockery, no decision is made at the polls, and there is no representation of the popular will. Common honesty and good faith with the people who support a party at the polls require that party, when it enters office, to assume the control of that portion of the Government to which it has been elected. Any other course is bad faith and a violation of the party pledges.\\n\\nWhen the country has bestowed its confidence upon a party by making it a majority in the Congress, it has a right to expect such unity of action as will make the party majority an effective instrument of government. This Administration has come into power with a very clear and definite mandate from the people. The expression of the popular will in favor of maintaining our constitutional guarantees was overwhelming and decisive. There was a manifestation of such faith in the integrity of the courts that we can consider that issue rejected for some time to come. Likewise, the policy of public ownership of railroads and certain electric utilities met with unmistakable defeat. The people declared that they wanted their rights to have not a political but a judicial determination, and their independence and freedom continued and supported by having the ownership and control of their property, not in the Government, but in their own hands. As they always do when they have a fair chance, the people demonstrated that they are sound and are determined to have a sound government.\\n\\nWhen we turn from what was rejected to inquire what was accepted, the policy that stands out with the greatest clearness is that of economy in public expenditure with reduction and reform of taxation. The principle involved in this effort is that of conservation. The resources of this country are almost beyond computation. No mind can comprehend them. But the cost of our combined governments is likewise almost beyond definition. Not only those who are now making their tax returns, but those who meet the enhanced cost of existence in their monthly bills, know by hard experience what this great burden is and what it does. No matter what others may want, these people want a drastic economy. They are opposed to waste. They know that extravagance lengthens the hours and diminishes the rewards of their labor. I favor the policy of economy, not because I wish to save money, but because I wish to save people. The men and women of this country who toil are the ones who bear the cost of the Government. Every dollar that we carelessly waste means that their life will be so much the more meager. Every dollar that we prudently save means that their life will be so much the more abundant. Economy is idealism in its most practical form.\\n\\nIf extravagance were not reflected in taxation, and through taxation both directly and indirectly injuriously affecting the people, it would not be of so much consequence. The wisest and soundest method of solving our tax problem is through economy. Fortunately, of all the great nations this country is best in a position to adopt that simple remedy. We do not any longer need wartime revenues. The collection of any taxes which are not absolutely required, which do not beyond reasonable doubt contribute to the public welfare, is only a species of legalized larceny. Under this republic the rewards of industry belong to those who earn them. The only constitutional tax is the tax which ministers to public necessity. The property of the country belongs to the people of the country. Their title is absolute. They do not support any privileged class; they do not need to maintain great military forces; they ought not to be burdened with a great array of public employees. They are not required to make any contribution to Government expenditures except that which they voluntarily assess upon themselves through the action of their own representatives. Whenever taxes become burdensome a remedy can be applied by the people; but if they do not act for themselves, no one can be very successful in acting for them.\\n\\nThe time is arriving when we can have further tax reduction, when, unless we wish to hamper the people in their right to earn a living, we must have tax reform. The method of raising revenue ought not to impede the transaction of business; it ought to encourage it. I am opposed to extremely high rates, because they produce little or no revenue, because they are bad for the country, and, finally, because they are wrong. We can not finance the country, we can not improve social conditions, through any system of injustice, even if we attempt to inflict it upon the rich. Those who suffer the most harm will be the poor. This country believes in prosperity. It is absurd to suppose that it is envious of those who are already prosperous. The wise and correct course to follow in taxation and all other economic legislation is not to destroy those who have already secured success but to create conditions under which every one will have a better chance to be successful. The verdict of the country has been given on this question. That verdict stands. We shall do well to heed it.\\n\\nThese questions involve moral issues. We need not concern ourselves much about the rights of property if we will faithfully observe the rights of persons. Under our institutions their rights are supreme. It is not property but the right to hold property, both great and small, which our Constitution guarantees. All owners of property are charged with a service. These rights and duties have been revealed, through the conscience of society, to have a divine sanction. The very stability of our society rests upon production and conservation. For individuals or for governments to waste and squander their resources is to deny these rights and disregard these obligations. The result of economic dissipation to a nation is always moral decay.\\n\\nThese policies of better international understandings, greater economy, and lower taxes have contributed largely to peaceful and prosperous industrial relations. Under the helpful influences of restrictive immigration and a protective tariff, employment is plentiful, the rate of pay is high, and wage earners are in a state of contentment seldom before seen. Our transportation systems have been gradually recovering and have been able to meet all the requirements of the service. Agriculture has been ver slow in reviving, but the price of cereals at last indicates that the day of its deliverance is at hand.\\n\\nWe are not without our problems, but our most important problem is not to secure new advantages but to maintain those which we already possess. Our system of government made up of three separate and independent departments, our divided sovereignty composed of Nation and State, the matchless wisdom that is enshrined in our Constitution, all these need constant effort and tireless vigilance for their protection and support.\\n\\nIn a republic the first rule for the guidance of the citizen is obedience to law. Under a despotism the law may be imposed upon the subject. He has no voice in its making, no influence in its administration, it does not represent him. Under a free government the citizen makes his own laws, chooses his own administrators, which do represent him. Those who want their rights respected under the Constitution and the law ought to set the example themselves of observing the Constitution and the law. While there may be those of high intelligence who violate the law at times, the barbarian and the defective always violate it. Those who disregard the rules of society are not exhibiting a superior intelligence, are not promoting freedom and independence, are not following the path of civilization, but are displaying the traits of ignorance, of servitude, of savagery, and treading the way that leads back to the jungle.\\n\\nThe essence of a republic is representative government. Our Congress represents the people and the States. In all legislative affairs it is the natural collaborator with the President. In spite of all the criticism which often falls to its lot, I do not hesitate to say that there is no more independent and effective legislative body in the world. It is, and should be, jealous of its prerogative. I welcome its cooperation, and expect to share with it not only the responsibility, but the credit, for our common effort to secure beneficial legislation.\\n\\nThese are some of the principles which America represents. We have not by any means put them fully into practice, but we have strongly signified our belief in them. The encouraging feature of our country is not that it has reached its destination, but that it has overwhelmingly expressed its determination to proceed in the right direction. It is true that we could, with profit, be less sectional and more national in our thought. It would be well if we could replace much that is only a false and ignorant prejudice with a true and enlightened pride of race. But the last election showed that appeals to class and nationality had little effect. We were all found loyal to a common citizenship. The fundamental precept of liberty is toleration. We can not permit any inquisition either within or without the law or apply any religious test to the holding of office. The mind of America must be forever free.\\n\\nIt is in such contemplations, my fellow countrymen, which are not exhaustive but only representative, that I find ample warrant for satisfaction and encouragement. We should not let the much that is to do obscure the much which has been done. The past and present show faith and hope and courage fully justified. Here stands our country, an example of tranquillity at home, a patron of tranquillity abroad. Here stands its Government, aware of its might but obedient to its conscience. Here it will continue to stand, seeking peace and prosperity, solicitous for the welfare of the wage earner, promoting enterprise, developing waterways and natural resources, attentive to the intuitive counsel of womanhood, encouraging education, desiring the advancement of religion, supporting the cause of justice and honor among the nations. America seeks no earthly empire built on blood and force. No ambition, no temptation, lures her to thought of foreign dominions. The legions which she sends forth are armed, not with the sword, but with the cross. The higher state to which she seeks the allegiance of all mankind is not of human, but of divine origin. She cherishes no purpose save to merit the favor of Almighty God.\\n\\n \\n'"
            ],
            "application/vnd.google.colaboratory.intrinsic+json": {
              "type": "string"
            }
          },
          "metadata": {},
          "execution_count": 10
        }
      ]
    },
    {
      "cell_type": "code",
      "source": [
        "nltk.corpus.inaugural.fileids()"
      ],
      "metadata": {
        "colab": {
          "base_uri": "https://localhost:8080/"
        },
        "id": "NcFuufJ0T5i-",
        "outputId": "6f4a101b-5ec0-4d1b-a8e5-3907fa0dc510"
      },
      "execution_count": null,
      "outputs": [
        {
          "output_type": "execute_result",
          "data": {
            "text/plain": [
              "['1789-Washington.txt',\n",
              " '1793-Washington.txt',\n",
              " '1797-Adams.txt',\n",
              " '1801-Jefferson.txt',\n",
              " '1805-Jefferson.txt',\n",
              " '1809-Madison.txt',\n",
              " '1813-Madison.txt',\n",
              " '1817-Monroe.txt',\n",
              " '1821-Monroe.txt',\n",
              " '1825-Adams.txt',\n",
              " '1829-Jackson.txt',\n",
              " '1833-Jackson.txt',\n",
              " '1837-VanBuren.txt',\n",
              " '1841-Harrison.txt',\n",
              " '1845-Polk.txt',\n",
              " '1849-Taylor.txt',\n",
              " '1853-Pierce.txt',\n",
              " '1857-Buchanan.txt',\n",
              " '1861-Lincoln.txt',\n",
              " '1865-Lincoln.txt',\n",
              " '1869-Grant.txt',\n",
              " '1873-Grant.txt',\n",
              " '1877-Hayes.txt',\n",
              " '1881-Garfield.txt',\n",
              " '1885-Cleveland.txt',\n",
              " '1889-Harrison.txt',\n",
              " '1893-Cleveland.txt',\n",
              " '1897-McKinley.txt',\n",
              " '1901-McKinley.txt',\n",
              " '1905-Roosevelt.txt',\n",
              " '1909-Taft.txt',\n",
              " '1913-Wilson.txt',\n",
              " '1917-Wilson.txt',\n",
              " '1921-Harding.txt',\n",
              " '1925-Coolidge.txt',\n",
              " '1929-Hoover.txt',\n",
              " '1933-Roosevelt.txt',\n",
              " '1937-Roosevelt.txt',\n",
              " '1941-Roosevelt.txt',\n",
              " '1945-Roosevelt.txt',\n",
              " '1949-Truman.txt',\n",
              " '1953-Eisenhower.txt',\n",
              " '1957-Eisenhower.txt',\n",
              " '1961-Kennedy.txt',\n",
              " '1965-Johnson.txt',\n",
              " '1969-Nixon.txt',\n",
              " '1973-Nixon.txt',\n",
              " '1977-Carter.txt',\n",
              " '1981-Reagan.txt',\n",
              " '1985-Reagan.txt',\n",
              " '1989-Bush.txt',\n",
              " '1993-Clinton.txt',\n",
              " '1997-Clinton.txt',\n",
              " '2001-Bush.txt',\n",
              " '2005-Bush.txt',\n",
              " '2009-Obama.txt',\n",
              " '2013-Obama.txt',\n",
              " '2017-Trump.txt',\n",
              " '2021-Biden.txt']"
            ]
          },
          "metadata": {},
          "execution_count": 11
        }
      ]
    },
    {
      "cell_type": "code",
      "source": [
        "nltk.corpus.inaugural.abspath('2013-Obama.txt')"
      ],
      "metadata": {
        "colab": {
          "base_uri": "https://localhost:8080/",
          "height": 34
        },
        "id": "GXkuLB5aT_vU",
        "outputId": "5fb5a5c3-f4be-4a75-d44b-9769919e3f69"
      },
      "execution_count": null,
      "outputs": [
        {
          "output_type": "execute_result",
          "data": {
            "text/plain": [
              "FileSystemPathPointer('/root/nltk_data/corpora/inaugural/2013-Obama.txt')"
            ],
            "application/vnd.google.colaboratory.intrinsic+json": {
              "type": "string"
            }
          },
          "metadata": {},
          "execution_count": 12
        }
      ]
    },
    {
      "cell_type": "code",
      "source": [
        "nltk.corpus.inaugural.readme()"
      ],
      "metadata": {
        "colab": {
          "base_uri": "https://localhost:8080/",
          "height": 70
        },
        "id": "sU456OJpUTB3",
        "outputId": "8e0ad8e5-84b9-402c-be65-6ecf423608ae"
      },
      "execution_count": null,
      "outputs": [
        {
          "output_type": "execute_result",
          "data": {
            "text/plain": [
              "'C-Span Inaugural Address Corpus\\n\\nUS presidential inaugural addresses 1789-2021\\n\\n(Thanks to Kathleen Ahrens for compiling this corpus from\\nthe C-Span sources.)\\n\\n'"
            ],
            "application/vnd.google.colaboratory.intrinsic+json": {
              "type": "string"
            }
          },
          "metadata": {},
          "execution_count": 13
        }
      ]
    },
    {
      "cell_type": "code",
      "source": [
        "nltk.corpus.inaugural.encoding('1989-Bush.txt')"
      ],
      "metadata": {
        "colab": {
          "base_uri": "https://localhost:8080/",
          "height": 35
        },
        "id": "B5ov9NrdUYP1",
        "outputId": "55bd1e28-645e-473e-f17a-7dabe31a7d47"
      },
      "execution_count": null,
      "outputs": [
        {
          "output_type": "execute_result",
          "data": {
            "text/plain": [
              "'latin1'"
            ],
            "application/vnd.google.colaboratory.intrinsic+json": {
              "type": "string"
            }
          },
          "metadata": {},
          "execution_count": 14
        }
      ]
    },
    {
      "cell_type": "code",
      "source": [
        "nltk.corpus.inaugural.root"
      ],
      "metadata": {
        "colab": {
          "base_uri": "https://localhost:8080/",
          "height": 34
        },
        "id": "RpVLYxcDUmE9",
        "outputId": "63046700-f8da-455f-ea48-9019492249fb"
      },
      "execution_count": null,
      "outputs": [
        {
          "output_type": "execute_result",
          "data": {
            "text/plain": [
              "FileSystemPathPointer('/root/nltk_data/corpora/inaugural')"
            ],
            "application/vnd.google.colaboratory.intrinsic+json": {
              "type": "string"
            }
          },
          "metadata": {},
          "execution_count": 15
        }
      ]
    }
  ]
}