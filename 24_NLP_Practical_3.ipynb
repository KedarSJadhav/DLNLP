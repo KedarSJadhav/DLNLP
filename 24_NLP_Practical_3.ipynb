{
  "nbformat": 4,
  "nbformat_minor": 0,
  "metadata": {
    "colab": {
      "name": "24_NLP_Practical_3.ipynb",
      "provenance": [],
      "collapsed_sections": []
    },
    "kernelspec": {
      "name": "python3",
      "display_name": "Python 3"
    },
    "language_info": {
      "name": "python"
    }
  },
  "cells": [
    {
      "cell_type": "code",
      "execution_count": null,
      "metadata": {
        "colab": {
          "base_uri": "https://localhost:8080/"
        },
        "id": "3pBx0inUCOJb",
        "outputId": "2eb746ad-e912-46f7-83dc-0db8f1f0f57c"
      },
      "outputs": [
        {
          "output_type": "stream",
          "name": "stderr",
          "text": [
            "[nltk_data] Downloading package punkt to /root/nltk_data...\n",
            "[nltk_data]   Package punkt is already up-to-date!\n",
            "[nltk_data] Downloading package stopwords to /root/nltk_data...\n",
            "[nltk_data]   Unzipping corpora/stopwords.zip.\n",
            "[nltk_data] Downloading package webtext to /root/nltk_data...\n",
            "[nltk_data]   Package webtext is already up-to-date!\n"
          ]
        },
        {
          "output_type": "execute_result",
          "data": {
            "text/plain": [
              "True"
            ]
          },
          "metadata": {},
          "execution_count": 31
        }
      ],
      "source": [
        "from bs4 import BeautifulSoup\n",
        "from nltk.tokenize import PunktSentenceTokenizer\n",
        "from nltk.corpus import stopwords\n",
        "\n",
        "import nltk\n",
        "nltk.download('punkt')\n",
        "nltk.download('stopwords')\n",
        "\n",
        "from nltk.corpus import webtext \n",
        "nltk.download('webtext')\n"
      ]
    },
    {
      "cell_type": "code",
      "source": [
        "text = webtext.raw('/content/sample_data/test.txt')\n",
        "sents = PunktSentenceTokenizer(text)"
      ],
      "metadata": {
        "id": "VLTVWLMJEYTn"
      },
      "execution_count": null,
      "outputs": []
    },
    {
      "cell_type": "code",
      "source": [
        "text"
      ],
      "metadata": {
        "colab": {
          "base_uri": "https://localhost:8080/",
          "height": 53
        },
        "id": "mycCqktwEZue",
        "outputId": "09e8a85c-901d-498c-b2ba-512952218c30"
      },
      "execution_count": null,
      "outputs": [
        {
          "output_type": "execute_result",
          "data": {
            "text/plain": [
              "'White guy: So, do you have any plans for this evening?\\r\\nAsian girl: Yeah, being angry!\\r\\nWhite guy: Oh, that sounds good.'"
            ],
            "application/vnd.google.colaboratory.intrinsic+json": {
              "type": "string"
            }
          },
          "metadata": {},
          "execution_count": 26
        }
      ]
    },
    {
      "cell_type": "code",
      "source": [
        "print(sents)"
      ],
      "metadata": {
        "colab": {
          "base_uri": "https://localhost:8080/"
        },
        "id": "ERVGoVSCEczu",
        "outputId": "f155d344-873f-4e1c-e10d-5dd654533875"
      },
      "execution_count": null,
      "outputs": [
        {
          "output_type": "stream",
          "name": "stdout",
          "text": [
            "<nltk.tokenize.punkt.PunktSentenceTokenizer object at 0x7f31bebf2450>\n"
          ]
        }
      ]
    },
    {
      "cell_type": "code",
      "source": [
        "eng_stops = set(stopwords.words('english'))\n",
        "word_c = word_tokenize(text)"
      ],
      "metadata": {
        "id": "oC4vOpdGEgSu"
      },
      "execution_count": null,
      "outputs": []
    },
    {
      "cell_type": "code",
      "source": [
        "text = webtext.raw('/content/sample_data/test.txt')\n",
        "sents = PunktSentenceTokenizer(text)"
      ],
      "metadata": {
        "id": "dCC7NcSVId6W"
      },
      "execution_count": null,
      "outputs": []
    },
    {
      "cell_type": "code",
      "source": [
        "word_c"
      ],
      "metadata": {
        "colab": {
          "base_uri": "https://localhost:8080/"
        },
        "id": "RyLXAbxLE0m-",
        "outputId": "c64a46cf-4e53-4277-a933-cc6dbcc17c17"
      },
      "execution_count": null,
      "outputs": [
        {
          "output_type": "execute_result",
          "data": {
            "text/plain": [
              "['White',\n",
              " 'guy',\n",
              " ':',\n",
              " 'So',\n",
              " ',',\n",
              " 'do',\n",
              " 'you',\n",
              " 'have',\n",
              " 'any',\n",
              " 'plans',\n",
              " 'for',\n",
              " 'this',\n",
              " 'evening',\n",
              " '?',\n",
              " 'Asian',\n",
              " 'girl',\n",
              " ':',\n",
              " 'Yeah',\n",
              " ',',\n",
              " 'being',\n",
              " 'angry',\n",
              " '!',\n",
              " 'White',\n",
              " 'guy',\n",
              " ':',\n",
              " 'Oh',\n",
              " ',',\n",
              " 'that',\n",
              " 'sounds',\n",
              " 'good',\n",
              " '.']"
            ]
          },
          "metadata": {},
          "execution_count": 38
        }
      ]
    },
    {
      "cell_type": "code",
      "source": [
        "[word for word in word_c if word not in eng_stops]"
      ],
      "metadata": {
        "colab": {
          "base_uri": "https://localhost:8080/"
        },
        "id": "PQOzYHTRHTqe",
        "outputId": "6d8c19b8-5b91-43fa-e435-070e1ab86443"
      },
      "execution_count": null,
      "outputs": [
        {
          "output_type": "execute_result",
          "data": {
            "text/plain": [
              "['White',\n",
              " 'guy',\n",
              " ':',\n",
              " 'So',\n",
              " ',',\n",
              " 'plans',\n",
              " 'evening',\n",
              " '?',\n",
              " 'Asian',\n",
              " 'girl',\n",
              " ':',\n",
              " 'Yeah',\n",
              " ',',\n",
              " 'angry',\n",
              " '!',\n",
              " 'White',\n",
              " 'guy',\n",
              " ':',\n",
              " 'Oh',\n",
              " ',',\n",
              " 'sounds',\n",
              " 'good',\n",
              " '.']"
            ]
          },
          "metadata": {},
          "execution_count": 45
        }
      ]
    },
    {
      "cell_type": "code",
      "source": [
        "len(word)"
      ],
      "metadata": {
        "colab": {
          "base_uri": "https://localhost:8080/"
        },
        "id": "wQfINoeaIyXQ",
        "outputId": "b4c464bf-4ff9-481a-f4ae-fbcc600383b0"
      },
      "execution_count": null,
      "outputs": [
        {
          "output_type": "execute_result",
          "data": {
            "text/plain": [
              "31"
            ]
          },
          "metadata": {},
          "execution_count": 74
        }
      ]
    },
    {
      "cell_type": "code",
      "source": [
        "## Wordnet"
      ],
      "metadata": {
        "id": "JdOXjxGCLfkm"
      },
      "execution_count": null,
      "outputs": []
    },
    {
      "cell_type": "code",
      "source": [
        "from nltk.corpus import wordnet\n",
        "nltk.download('wordnet')\n",
        "nltk.download('omw-1.4')"
      ],
      "metadata": {
        "colab": {
          "base_uri": "https://localhost:8080/"
        },
        "id": "tHW1vnYXJKfe",
        "outputId": "71c212e0-7fb3-4731-c02c-ec6359121b94"
      },
      "execution_count": null,
      "outputs": [
        {
          "output_type": "stream",
          "name": "stderr",
          "text": [
            "[nltk_data] Downloading package wordnet to /root/nltk_data...\n",
            "[nltk_data]   Package wordnet is already up-to-date!\n",
            "[nltk_data] Downloading package omw-1.4 to /root/nltk_data...\n"
          ]
        },
        {
          "output_type": "execute_result",
          "data": {
            "text/plain": [
              "True"
            ]
          },
          "metadata": {},
          "execution_count": 59
        }
      ]
    },
    {
      "cell_type": "code",
      "source": [
        "syn = wordnet.synsets('cookbook') [0]\n",
        "syn.name()"
      ],
      "metadata": {
        "colab": {
          "base_uri": "https://localhost:8080/",
          "height": 35
        },
        "id": "ica1BVOBJkhe",
        "outputId": "cc63bc78-8959-430a-ab7d-89833a7d5794"
      },
      "execution_count": null,
      "outputs": [
        {
          "output_type": "execute_result",
          "data": {
            "text/plain": [
              "'cookbook.n.01'"
            ],
            "application/vnd.google.colaboratory.intrinsic+json": {
              "type": "string"
            }
          },
          "metadata": {},
          "execution_count": 84
        }
      ]
    },
    {
      "cell_type": "code",
      "source": [
        "syn.definition()"
      ],
      "metadata": {
        "colab": {
          "base_uri": "https://localhost:8080/",
          "height": 35
        },
        "id": "gfMl_GkHJ0G2",
        "outputId": "527f9dd7-f7bb-450a-8a60-b649c4b16e80"
      },
      "execution_count": null,
      "outputs": [
        {
          "output_type": "execute_result",
          "data": {
            "text/plain": [
              "'a book of recipes and cooking directions'"
            ],
            "application/vnd.google.colaboratory.intrinsic+json": {
              "type": "string"
            }
          },
          "metadata": {},
          "execution_count": 85
        }
      ]
    },
    {
      "cell_type": "code",
      "source": [
        "syn1 = wordnet.synsets('book')[1]"
      ],
      "metadata": {
        "id": "1--kebpmJ812"
      },
      "execution_count": null,
      "outputs": []
    },
    {
      "cell_type": "code",
      "source": [
        "syn1.name()"
      ],
      "metadata": {
        "colab": {
          "base_uri": "https://localhost:8080/",
          "height": 35
        },
        "id": "FH3IodA8KHX2",
        "outputId": "c6a306ec-c27c-438b-bdd3-4c3bf38d087b"
      },
      "execution_count": null,
      "outputs": [
        {
          "output_type": "execute_result",
          "data": {
            "text/plain": [
              "'book.n.02'"
            ],
            "application/vnd.google.colaboratory.intrinsic+json": {
              "type": "string"
            }
          },
          "metadata": {},
          "execution_count": 81
        }
      ]
    },
    {
      "cell_type": "code",
      "source": [
        "syn1.lemmas()"
      ],
      "metadata": {
        "colab": {
          "base_uri": "https://localhost:8080/"
        },
        "id": "E54tHQn4KMR3",
        "outputId": "1f23b845-fa82-496e-9c74-47f035311842"
      },
      "execution_count": null,
      "outputs": [
        {
          "output_type": "execute_result",
          "data": {
            "text/plain": [
              "[Lemma('book.n.02.book'), Lemma('book.n.02.volume')]"
            ]
          },
          "metadata": {},
          "execution_count": 82
        }
      ]
    },
    {
      "cell_type": "code",
      "source": [
        "# Reference to try https://www.nltk.org/howto/wordnet.html"
      ],
      "metadata": {
        "id": "HiwqR3SALWDn"
      },
      "execution_count": null,
      "outputs": []
    },
    {
      "cell_type": "code",
      "source": [
        "#Working with hypernyms"
      ],
      "metadata": {
        "id": "xTr2tLOPLaf-"
      },
      "execution_count": null,
      "outputs": []
    },
    {
      "cell_type": "code",
      "source": [
        "syn.hypernyms()"
      ],
      "metadata": {
        "colab": {
          "base_uri": "https://localhost:8080/"
        },
        "id": "Nf7JgBqmLsyP",
        "outputId": "849f4630-0598-42c0-b121-7b948a651f59"
      },
      "execution_count": null,
      "outputs": [
        {
          "output_type": "execute_result",
          "data": {
            "text/plain": [
              "[Synset('reference_book.n.01')]"
            ]
          },
          "metadata": {},
          "execution_count": 87
        }
      ]
    },
    {
      "cell_type": "code",
      "source": [
        "syn.hypernyms()[0].hyponyms()"
      ],
      "metadata": {
        "colab": {
          "base_uri": "https://localhost:8080/"
        },
        "id": "DXcCwT5uMS1Y",
        "outputId": "9f371658-4147-415d-a292-246d8e56f2e8"
      },
      "execution_count": null,
      "outputs": [
        {
          "output_type": "execute_result",
          "data": {
            "text/plain": [
              "[Synset('annual.n.02'),\n",
              " Synset('atlas.n.02'),\n",
              " Synset('cookbook.n.01'),\n",
              " Synset('directory.n.01'),\n",
              " Synset('encyclopedia.n.01'),\n",
              " Synset('handbook.n.01'),\n",
              " Synset('instruction_book.n.01'),\n",
              " Synset('source_book.n.01'),\n",
              " Synset('wordbook.n.01')]"
            ]
          },
          "metadata": {},
          "execution_count": 89
        }
      ]
    },
    {
      "cell_type": "code",
      "source": [
        "syn.root_hypernyms()"
      ],
      "metadata": {
        "colab": {
          "base_uri": "https://localhost:8080/"
        },
        "id": "er0Ms50NMemW",
        "outputId": "cdaf6849-fc1c-4dee-aa0b-6057eaec7e5a"
      },
      "execution_count": null,
      "outputs": [
        {
          "output_type": "execute_result",
          "data": {
            "text/plain": [
              "[Synset('entity.n.01')]"
            ]
          },
          "metadata": {},
          "execution_count": 90
        }
      ]
    },
    {
      "cell_type": "code",
      "source": [
        "syn.hypernym_paths()"
      ],
      "metadata": {
        "colab": {
          "base_uri": "https://localhost:8080/"
        },
        "id": "qLLNiwveMi5-",
        "outputId": "b36e0d4e-3d4c-454e-d9e2-c2592a1c397e"
      },
      "execution_count": null,
      "outputs": [
        {
          "output_type": "execute_result",
          "data": {
            "text/plain": [
              "[[Synset('entity.n.01'),\n",
              "  Synset('physical_entity.n.01'),\n",
              "  Synset('object.n.01'),\n",
              "  Synset('whole.n.02'),\n",
              "  Synset('artifact.n.01'),\n",
              "  Synset('creation.n.02'),\n",
              "  Synset('product.n.02'),\n",
              "  Synset('work.n.02'),\n",
              "  Synset('publication.n.01'),\n",
              "  Synset('book.n.01'),\n",
              "  Synset('reference_book.n.01'),\n",
              "  Synset('cookbook.n.01')]]"
            ]
          },
          "metadata": {},
          "execution_count": 91
        }
      ]
    },
    {
      "cell_type": "code",
      "source": [
        "## Lemmas and S"
      ],
      "metadata": {
        "id": "oHkd0YexM1VW"
      },
      "execution_count": null,
      "outputs": []
    },
    {
      "cell_type": "code",
      "source": [
        "lemmas = syn.lemmas()\n",
        "lemmas"
      ],
      "metadata": {
        "colab": {
          "base_uri": "https://localhost:8080/"
        },
        "id": "QmmhbdBnNZXX",
        "outputId": "abe537c0-7c89-4de4-f5fd-4bc0f806f3f9"
      },
      "execution_count": null,
      "outputs": [
        {
          "output_type": "execute_result",
          "data": {
            "text/plain": [
              "[Lemma('cookbook.n.01.cookbook'), Lemma('cookbook.n.01.cookery_book')]"
            ]
          },
          "metadata": {},
          "execution_count": 94
        }
      ]
    },
    {
      "cell_type": "code",
      "source": [
        "len(lemmas)"
      ],
      "metadata": {
        "colab": {
          "base_uri": "https://localhost:8080/"
        },
        "id": "6ovamQCiNjRm",
        "outputId": "98fd453c-d238-4955-b703-9251b7cf224d"
      },
      "execution_count": null,
      "outputs": [
        {
          "output_type": "execute_result",
          "data": {
            "text/plain": [
              "2"
            ]
          },
          "metadata": {},
          "execution_count": 95
        }
      ]
    },
    {
      "cell_type": "code",
      "source": [
        "lemmas[0].name()"
      ],
      "metadata": {
        "colab": {
          "base_uri": "https://localhost:8080/",
          "height": 35
        },
        "id": "k1Q47vjLNgWW",
        "outputId": "9cbc6ec4-5ecc-4004-c774-49cfed3afb95"
      },
      "execution_count": null,
      "outputs": [
        {
          "output_type": "execute_result",
          "data": {
            "text/plain": [
              "'cookbook'"
            ],
            "application/vnd.google.colaboratory.intrinsic+json": {
              "type": "string"
            }
          },
          "metadata": {},
          "execution_count": 96
        }
      ]
    },
    {
      "cell_type": "code",
      "source": [
        "lemmas[1].name()"
      ],
      "metadata": {
        "colab": {
          "base_uri": "https://localhost:8080/",
          "height": 35
        },
        "id": "cgBt2rqaNuem",
        "outputId": "59ad9bc0-e5ab-4a0c-9ac8-e0da7950d967"
      },
      "execution_count": null,
      "outputs": [
        {
          "output_type": "execute_result",
          "data": {
            "text/plain": [
              "'cookery_book'"
            ],
            "application/vnd.google.colaboratory.intrinsic+json": {
              "type": "string"
            }
          },
          "metadata": {},
          "execution_count": 98
        }
      ]
    },
    {
      "cell_type": "code",
      "source": [],
      "metadata": {
        "id": "cRVm68JiNxye"
      },
      "execution_count": null,
      "outputs": []
    },
    {
      "cell_type": "code",
      "source": [
        "#Antonyms"
      ],
      "metadata": {
        "id": "U9CHA6JIN7CW"
      },
      "execution_count": null,
      "outputs": []
    },
    {
      "cell_type": "code",
      "source": [
        "gn2 = wordnet.synset('good.n.02')"
      ],
      "metadata": {
        "id": "XgwK57fuN9qf"
      },
      "execution_count": null,
      "outputs": []
    },
    {
      "cell_type": "code",
      "source": [
        "gn2.definition()"
      ],
      "metadata": {
        "colab": {
          "base_uri": "https://localhost:8080/",
          "height": 35
        },
        "id": "oXk9ON5qOGYP",
        "outputId": "3c77dd44-8b1d-4e3d-c6fe-902221754036"
      },
      "execution_count": null,
      "outputs": [
        {
          "output_type": "execute_result",
          "data": {
            "text/plain": [
              "'moral excellence or admirableness'"
            ],
            "application/vnd.google.colaboratory.intrinsic+json": {
              "type": "string"
            }
          },
          "metadata": {},
          "execution_count": 101
        }
      ]
    },
    {
      "cell_type": "code",
      "source": [
        "evil = gn2.lemmas()[0].antonyms()[0]"
      ],
      "metadata": {
        "id": "kdiZM2NDOJ_m"
      },
      "execution_count": null,
      "outputs": []
    },
    {
      "cell_type": "code",
      "source": [
        "evil"
      ],
      "metadata": {
        "colab": {
          "base_uri": "https://localhost:8080/"
        },
        "id": "S7gg7Vt5OTJX",
        "outputId": "141739ec-3f06-4a34-df11-e6ccd0235372"
      },
      "execution_count": null,
      "outputs": [
        {
          "output_type": "execute_result",
          "data": {
            "text/plain": [
              "Lemma('evil.n.03.evil')"
            ]
          },
          "metadata": {},
          "execution_count": 103
        }
      ]
    },
    {
      "cell_type": "code",
      "source": [
        "evil.name"
      ],
      "metadata": {
        "colab": {
          "base_uri": "https://localhost:8080/"
        },
        "id": "ElTwbMlsOUu2",
        "outputId": "86238936-e155-4fe0-b213-806c3f7710ef"
      },
      "execution_count": null,
      "outputs": [
        {
          "output_type": "execute_result",
          "data": {
            "text/plain": [
              "<bound method Lemma.name of Lemma('evil.n.03.evil')>"
            ]
          },
          "metadata": {},
          "execution_count": 104
        }
      ]
    },
    {
      "cell_type": "code",
      "source": [
        "evil.synset"
      ],
      "metadata": {
        "id": "pZCE5cGtOY1w"
      },
      "execution_count": null,
      "outputs": []
    }
  ]
}