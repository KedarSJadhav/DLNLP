{
  "nbformat": 4,
  "nbformat_minor": 0,
  "metadata": {
    "colab": {
      "name": "Untitled2.ipynb",
      "provenance": [],
      "collapsed_sections": []
    },
    "kernelspec": {
      "name": "python3",
      "display_name": "Python 3"
    },
    "language_info": {
      "name": "python"
    }
  },
  "cells": [
    {
      "cell_type": "code",
      "execution_count": null,
      "metadata": {
        "id": "-QfvZcyEwtN4"
      },
      "outputs": [],
      "source": [
        "import nltk\n",
        "import nltk.grammar"
      ]
    },
    {
      "cell_type": "code",
      "source": [
        "cfg_rules = \"\"\"\n",
        "S -> NP VP\n",
        "NP -> Det N | PropN\n",
        "Det -> PosPro | Art\n",
        "VP -> Vt NP\n",
        "\n",
        "Art -> 'the' | 'a'\n",
        "PropN -> 'Alice'\n",
        "N -> 'duck' | 'telescope' | 'park'\n",
        "Vt -> 'saw'\n",
        "PosPro -> 'my' | 'her'\n",
        "\"\"\"\n",
        "cfg = nltk.CFG.fromstring(cfg_rules)"
      ],
      "metadata": {
        "id": "DySkiIF-wviM"
      },
      "execution_count": null,
      "outputs": []
    },
    {
      "cell_type": "code",
      "source": [
        "print(cfg)"
      ],
      "metadata": {
        "colab": {
          "base_uri": "https://localhost:8080/"
        },
        "id": "SGLA-bzlw0Hj",
        "outputId": "906bb93a-bf57-45c3-f3ec-3885ca371b0a"
      },
      "execution_count": null,
      "outputs": [
        {
          "output_type": "stream",
          "name": "stdout",
          "text": [
            "Grammar with 15 productions (start state = S)\n",
            "    S -> NP VP\n",
            "    NP -> Det N\n",
            "    NP -> PropN\n",
            "    Det -> PosPro\n",
            "    Det -> Art\n",
            "    VP -> Vt NP\n",
            "    Art -> 'the'\n",
            "    Art -> 'a'\n",
            "    PropN -> 'Alice'\n",
            "    N -> 'duck'\n",
            "    N -> 'telescope'\n",
            "    N -> 'park'\n",
            "    Vt -> 'saw'\n",
            "    PosPro -> 'my'\n",
            "    PosPro -> 'her'\n"
          ]
        }
      ]
    },
    {
      "cell_type": "code",
      "source": [
        "print(cfg.is_flexible_chomsky_normal_form())"
      ],
      "metadata": {
        "colab": {
          "base_uri": "https://localhost:8080/"
        },
        "id": "RM0rYPOUxJQk",
        "outputId": "d6e3b286-5088-481a-c8bd-d7b2fe4a8afa"
      },
      "execution_count": null,
      "outputs": [
        {
          "output_type": "stream",
          "name": "stdout",
          "text": [
            "True\n"
          ]
        }
      ]
    },
    {
      "cell_type": "code",
      "source": [
        "cfg.chomsky_normal_form()"
      ],
      "metadata": {
        "colab": {
          "base_uri": "https://localhost:8080/"
        },
        "id": "x9hAd9HT5vOh",
        "outputId": "91d057fc-6a70-43b4-f673-4b5fc36160b1"
      },
      "execution_count": null,
      "outputs": [
        {
          "output_type": "execute_result",
          "data": {
            "text/plain": [
              "<Grammar with 17 productions>"
            ]
          },
          "metadata": {},
          "execution_count": 51
        }
      ]
    },
    {
      "cell_type": "code",
      "source": [
        "print(cfg.chomsky_normal_form())"
      ],
      "metadata": {
        "colab": {
          "base_uri": "https://localhost:8080/"
        },
        "id": "CaLZ8HvG5y2R",
        "outputId": "38956302-430a-4094-e62d-b6131f3212a6"
      },
      "execution_count": null,
      "outputs": [
        {
          "output_type": "stream",
          "name": "stdout",
          "text": [
            "Grammar with 17 productions (start state = S)\n",
            "    S -> NP VP\n",
            "    PropN -> 'Alice'\n",
            "    VP -> Vt NP\n",
            "    PosPro -> 'her'\n",
            "    Det -> 'my'\n",
            "    NP -> Det N\n",
            "    PosPro -> 'my'\n",
            "    Art -> 'a'\n",
            "    N -> 'telescope'\n",
            "    Vt -> 'saw'\n",
            "    N -> 'park'\n",
            "    NP -> 'Alice'\n",
            "    Det -> 'the'\n",
            "    Det -> 'a'\n",
            "    Det -> 'her'\n",
            "    N -> 'duck'\n",
            "    Art -> 'the'\n"
          ]
        }
      ]
    },
    {
      "cell_type": "code",
      "source": [
        "from nltk import CFG"
      ],
      "metadata": {
        "id": "OuzgYe6xyaNT"
      },
      "execution_count": null,
      "outputs": []
    },
    {
      "cell_type": "code",
      "source": [
        "grammar = CFG.fromstring(\"\"\"\n",
        "    S -> NP VP\n",
        "    PP -> P NP\n",
        "    NP -> Det N | NP PP\n",
        "    VP -> V NP | VP PP\n",
        "    Det -> 'a' | 'the'\n",
        "    N -> 'dog' | 'cat'\n",
        "    V -> 'chased' | 'sat'\n",
        "    P -> 'on' | 'in'\n",
        "\"\"\")"
      ],
      "metadata": {
        "id": "QKXgOKjmyx1C"
      },
      "execution_count": null,
      "outputs": []
    },
    {
      "cell_type": "code",
      "source": [
        "print(grammar)"
      ],
      "metadata": {
        "colab": {
          "base_uri": "https://localhost:8080/"
        },
        "id": "ZCs1_nJ1zE1D",
        "outputId": "c2f4be2d-b489-47e1-9273-7496d73b9454"
      },
      "execution_count": null,
      "outputs": [
        {
          "output_type": "stream",
          "name": "stdout",
          "text": [
            "Grammar with 14 productions (start state = S)\n",
            "    S -> NP VP\n",
            "    PP -> P NP\n",
            "    NP -> Det N\n",
            "    NP -> NP PP\n",
            "    VP -> V NP\n",
            "    VP -> VP PP\n",
            "    Det -> 'a'\n",
            "    Det -> 'the'\n",
            "    N -> 'dog'\n",
            "    N -> 'cat'\n",
            "    V -> 'chased'\n",
            "    V -> 'sat'\n",
            "    P -> 'on'\n",
            "    P -> 'in'\n"
          ]
        }
      ]
    },
    {
      "cell_type": "code",
      "source": [
        "grammar.start()"
      ],
      "metadata": {
        "colab": {
          "base_uri": "https://localhost:8080/"
        },
        "id": "ekC0dmLKzusJ",
        "outputId": "c7076738-233b-451f-8a89-43ced75c9174"
      },
      "execution_count": null,
      "outputs": [
        {
          "output_type": "execute_result",
          "data": {
            "text/plain": [
              "S"
            ]
          },
          "metadata": {},
          "execution_count": 20
        }
      ]
    },
    {
      "cell_type": "code",
      "source": [
        "grammar.productions()"
      ],
      "metadata": {
        "colab": {
          "base_uri": "https://localhost:8080/"
        },
        "id": "1a3T_KMJzw-q",
        "outputId": "ba98c8dc-af7c-4e41-911c-e2de55eae8c8"
      },
      "execution_count": null,
      "outputs": [
        {
          "output_type": "execute_result",
          "data": {
            "text/plain": [
              "[S -> NP VP,\n",
              " PP -> P NP,\n",
              " NP -> Det N,\n",
              " NP -> NP PP,\n",
              " VP -> V NP,\n",
              " VP -> VP PP,\n",
              " Det -> 'a',\n",
              " Det -> 'the',\n",
              " N -> 'dog',\n",
              " N -> 'cat',\n",
              " V -> 'chased',\n",
              " V -> 'sat',\n",
              " P -> 'on',\n",
              " P -> 'in']"
            ]
          },
          "metadata": {},
          "execution_count": 21
        }
      ]
    },
    {
      "cell_type": "code",
      "source": [
        "#Probabilistic CFGs:\n",
        "from nltk import PCFG"
      ],
      "metadata": {
        "id": "E1Jhuhr9zyna"
      },
      "execution_count": null,
      "outputs": []
    },
    {
      "cell_type": "code",
      "source": [
        "toy_pcfg1 = PCFG.fromstring(\"\"\"\n",
        "    S -> NP VP [1.0]\n",
        "    NP -> Det N [0.5] | NP PP [0.25] | 'John' [0.1] | 'I' [0.15]\n",
        "    Det -> 'the' [0.8] | 'my' [0.2]\n",
        "    N -> 'man' [0.5] | 'telescope' [0.5]\n",
        "    VP -> VP PP [0.1] | V NP [0.7] | V [0.2]\n",
        "    V -> 'ate' [0.35] | 'saw' [0.65]\n",
        "    PP -> P NP [1.0]\n",
        "    P -> 'with' [0.61] | 'under' [0.39]\n",
        "    \"\"\")"
      ],
      "metadata": {
        "id": "eVTiqtQ6z_dh"
      },
      "execution_count": null,
      "outputs": []
    },
    {
      "cell_type": "code",
      "source": [
        "toy_pcfg1.start()"
      ],
      "metadata": {
        "colab": {
          "base_uri": "https://localhost:8080/"
        },
        "id": "QqO_roP11x4K",
        "outputId": "801b3f6e-6c03-4056-87a7-2ab900ea60af"
      },
      "execution_count": null,
      "outputs": [
        {
          "output_type": "execute_result",
          "data": {
            "text/plain": [
              "S"
            ]
          },
          "metadata": {},
          "execution_count": 37
        }
      ]
    },
    {
      "cell_type": "code",
      "source": [
        "toy_pcfg1.productions()"
      ],
      "metadata": {
        "colab": {
          "base_uri": "https://localhost:8080/"
        },
        "id": "WXhr_pVs2KXC",
        "outputId": "665908ec-ea1f-45c5-8af9-04b22d551478"
      },
      "execution_count": null,
      "outputs": [
        {
          "output_type": "execute_result",
          "data": {
            "text/plain": [
              "[S -> NP VP [1.0],\n",
              " NP -> Det N [0.5],\n",
              " NP -> NP PP [0.25],\n",
              " NP -> 'John' [0.1],\n",
              " NP -> 'I' [0.15],\n",
              " Det -> 'the' [0.8],\n",
              " Det -> 'my' [0.2],\n",
              " N -> 'man' [0.5],\n",
              " N -> 'telescope' [0.5],\n",
              " VP -> VP PP [0.1],\n",
              " VP -> V NP [0.7],\n",
              " VP -> V [0.2],\n",
              " V -> 'ate' [0.35],\n",
              " V -> 'saw' [0.65],\n",
              " PP -> P NP [1.0],\n",
              " P -> 'with' [0.61],\n",
              " P -> 'under' [0.39]]"
            ]
          },
          "metadata": {},
          "execution_count": 38
        }
      ]
    },
    {
      "cell_type": "code",
      "source": [
        "g = CFG.fromstring(\"VP^<TOP> -> VBP NP^<VP-TOP>\")\n",
        "g"
      ],
      "metadata": {
        "colab": {
          "base_uri": "https://localhost:8080/"
        },
        "id": "SrDCe0yO0IyJ",
        "outputId": "504a1bb1-1409-4ef8-ad3f-425107fdf9d0"
      },
      "execution_count": null,
      "outputs": [
        {
          "output_type": "execute_result",
          "data": {
            "text/plain": [
              "<Grammar with 1 productions>"
            ]
          },
          "metadata": {},
          "execution_count": 43
        }
      ]
    },
    {
      "cell_type": "code",
      "source": [
        "g.productions()[0].lhs()"
      ],
      "metadata": {
        "colab": {
          "base_uri": "https://localhost:8080/"
        },
        "id": "hi_arOz_0Lmp",
        "outputId": "78bc3977-d07a-45e0-891c-f4cd777e0517"
      },
      "execution_count": null,
      "outputs": [
        {
          "output_type": "execute_result",
          "data": {
            "text/plain": [
              "VP^<TOP>"
            ]
          },
          "metadata": {},
          "execution_count": 44
        }
      ]
    },
    {
      "cell_type": "code",
      "source": [
        "#Grammars can contain both empty strings and empty productions:\n",
        "from nltk.grammar import CFG\n",
        "from nltk.parse.generate import generate"
      ],
      "metadata": {
        "id": "NH4wtNta0PYC"
      },
      "execution_count": null,
      "outputs": []
    },
    {
      "cell_type": "code",
      "source": [
        "grammar = CFG.fromstring(\"\"\"\n",
        "    S -> A B\n",
        "    A -> 'a'\n",
        "    # An empty string:\n",
        "    B -> 'b' | ''\n",
        "    \"\"\")"
      ],
      "metadata": {
        "id": "rrEyDjPu0XNx"
      },
      "execution_count": null,
      "outputs": []
    },
    {
      "cell_type": "code",
      "source": [
        "print(grammar)"
      ],
      "metadata": {
        "colab": {
          "base_uri": "https://localhost:8080/"
        },
        "id": "H4nyAQH50eww",
        "outputId": "c2890a81-fae7-4130-a176-894991d32f24"
      },
      "execution_count": null,
      "outputs": [
        {
          "output_type": "stream",
          "name": "stdout",
          "text": [
            "Grammar with 4 productions (start state = S)\n",
            "    S -> A B\n",
            "    A -> 'a'\n",
            "    B -> 'b'\n",
            "    B -> ''\n"
          ]
        }
      ]
    },
    {
      "cell_type": "code",
      "source": [
        "list(generate(grammar))"
      ],
      "metadata": {
        "colab": {
          "base_uri": "https://localhost:8080/"
        },
        "id": "5E2OEw3I0kuA",
        "outputId": "d3fef865-51f0-4798-e0ee-3365d56eb734"
      },
      "execution_count": null,
      "outputs": [
        {
          "output_type": "execute_result",
          "data": {
            "text/plain": [
              "[['a', 'b'], ['a', '']]"
            ]
          },
          "metadata": {},
          "execution_count": 31
        }
      ]
    },
    {
      "cell_type": "code",
      "source": [
        "grammar = CFG.fromstring(\"\"\"\n",
        "    S -> A B\n",
        "    A -> 'a' | 'c' | 'd'\n",
        "    # An empty production:\n",
        "    B -> 'b' |\n",
        "    \"\"\")"
      ],
      "metadata": {
        "id": "dzYqqo540nP4"
      },
      "execution_count": null,
      "outputs": []
    },
    {
      "cell_type": "code",
      "source": [
        "print(grammar)"
      ],
      "metadata": {
        "colab": {
          "base_uri": "https://localhost:8080/"
        },
        "id": "Os9VesPo0sd_",
        "outputId": "d7f41f6c-e3ae-42b9-b1dc-65ddaa7800ba"
      },
      "execution_count": null,
      "outputs": [
        {
          "output_type": "stream",
          "name": "stdout",
          "text": [
            "Grammar with 6 productions (start state = S)\n",
            "    S -> A B\n",
            "    A -> 'a'\n",
            "    A -> 'c'\n",
            "    A -> 'd'\n",
            "    B -> 'b'\n",
            "    B -> \n"
          ]
        }
      ]
    },
    {
      "cell_type": "code",
      "source": [
        "list(generate(grammar))"
      ],
      "metadata": {
        "colab": {
          "base_uri": "https://localhost:8080/"
        },
        "id": "oI2WFq2i0w-H",
        "outputId": "118a1c08-1d57-440a-a330-19ee1b2d1c2b"
      },
      "execution_count": null,
      "outputs": [
        {
          "output_type": "execute_result",
          "data": {
            "text/plain": [
              "[['a', 'b'], ['a'], ['c', 'b'], ['c'], ['d', 'b'], ['d']]"
            ]
          },
          "metadata": {},
          "execution_count": 49
        }
      ]
    },
    {
      "cell_type": "code",
      "source": [],
      "metadata": {
        "id": "aUoQalE701ff"
      },
      "execution_count": null,
      "outputs": []
    },
    {
      "cell_type": "markdown",
      "source": [
        "##Exercise 2"
      ],
      "metadata": {
        "id": "XXRdyntw59sZ"
      }
    },
    {
      "cell_type": "code",
      "source": [
        "sentences = [\n",
        "    \"the purchase price includes two ancillary companies .\".split(),\n",
        "    \"the guild began a strike against the TV and movie industry in March 1988 .\".split(),\n",
        "]"
      ],
      "metadata": {
        "id": "aJKhlj5m6BZY"
      },
      "execution_count": null,
      "outputs": []
    },
    {
      "cell_type": "code",
      "source": [
        "# for s in sentences:\n",
        "#     grammar.check_coverage(s)"
      ],
      "metadata": {
        "id": "Zd-sSD9e6ITx"
      },
      "execution_count": null,
      "outputs": []
    },
    {
      "cell_type": "code",
      "source": [
        "sentences = [\n",
        "    \"cat sat on the mat\".split()]"
      ],
      "metadata": {
        "id": "3QsSRb2E6iqI"
      },
      "execution_count": null,
      "outputs": []
    },
    {
      "cell_type": "code",
      "source": [
        "grammar = CFG.fromstring(\"\"\"\n",
        "    S -> A B\n",
        "    A -> 'a'\n",
        "    # An empty string:\n",
        "    B -> 'b' | ''\n",
        "    \"\"\")"
      ],
      "metadata": {
        "id": "y7dpoH-s9c2g"
      },
      "execution_count": null,
      "outputs": []
    },
    {
      "cell_type": "markdown",
      "source": [
        "##Main Exercise 1"
      ],
      "metadata": {
        "id": "3qNoCvGXGg5_"
      }
    },
    {
      "cell_type": "code",
      "source": [
        "grammar1 = nltk.CFG.fromstring(\"\"\"\n",
        "  S -> NP VP\n",
        "  VP -> V NP | V NP PP\n",
        "  PP -> P NP\n",
        "  V -> \"saw\" | \"ate\" | \"walked\"\n",
        "  NP -> \"John\" | \"Mary\" | \"Bob\" | Det N | Det N PP\n",
        "  Det -> \"a\" | \"an\" | \"the\" | \"my\"\n",
        "  N -> \"man\" | \"dog\" | \"cat\" | \"telescope\" | \"park\"\n",
        "  P -> \"in\" | \"on\" | \"by\" | \"with\"\n",
        "  \"\"\")"
      ],
      "metadata": {
        "id": "Hz89PcBVCvm3"
      },
      "execution_count": null,
      "outputs": []
    },
    {
      "cell_type": "code",
      "source": [
        "sentance1 =\"John ate my telescope\".split()"
      ],
      "metadata": {
        "id": "CRzeWbv4C9k-"
      },
      "execution_count": null,
      "outputs": []
    },
    {
      "cell_type": "code",
      "source": [
        "cnf_grammar1 = grammar1.chomsky_normal_form()"
      ],
      "metadata": {
        "id": "YpGTAxthDLC_"
      },
      "execution_count": null,
      "outputs": []
    },
    {
      "cell_type": "code",
      "source": [
        "cnf_grammar1"
      ],
      "metadata": {
        "colab": {
          "base_uri": "https://localhost:8080/"
        },
        "id": "_alA8g2OETgG",
        "outputId": "8bf6ba31-6d18-4868-934e-bcda62a97904"
      },
      "execution_count": null,
      "outputs": [
        {
          "output_type": "execute_result",
          "data": {
            "text/plain": [
              "<Grammar with 27 productions>"
            ]
          },
          "metadata": {},
          "execution_count": 10
        }
      ]
    },
    {
      "cell_type": "code",
      "source": [
        "from nltk.parse.chart import BottomUpChartParser\n",
        "parser = BottomUpChartParser(cnf_grammar1)\n",
        "parses = list(parser.parse(sentance1))"
      ],
      "metadata": {
        "id": "Ru0SN-_pEX5_"
      },
      "execution_count": null,
      "outputs": []
    },
    {
      "cell_type": "code",
      "source": [
        "parses"
      ],
      "metadata": {
        "colab": {
          "base_uri": "https://localhost:8080/"
        },
        "id": "uoi05PSSGSKN",
        "outputId": "2b039046-6435-4383-f157-6bac2a043947"
      },
      "execution_count": null,
      "outputs": [
        {
          "output_type": "execute_result",
          "data": {
            "text/plain": [
              "[Tree('S', [Tree('NP', ['John']), Tree('VP', [Tree('V', ['ate']), Tree('NP', [Tree('Det', ['my']), Tree('N', ['telescope'])])])])]"
            ]
          },
          "metadata": {},
          "execution_count": 12
        }
      ]
    },
    {
      "cell_type": "markdown",
      "source": [
        "##Main Exercise 2"
      ],
      "metadata": {
        "id": "FzFO25kcGr_-"
      }
    },
    {
      "cell_type": "code",
      "source": [
        "grammar2 = CFG.fromstring(\"\"\"\n",
        "    S -> NP VP\n",
        "    PP -> P NP\n",
        "    NP -> Det N | NP PP\n",
        "    VP -> V NP | VP PP\n",
        "    Det -> 'a' | 'the'\n",
        "    N -> 'dog' | 'cat'\n",
        "    V -> 'chased' | 'sat'\n",
        "    P -> 'on' | 'in'\n",
        "    \"\"\")"
      ],
      "metadata": {
        "id": "hpq5biSuGUz1"
      },
      "execution_count": null,
      "outputs": []
    },
    {
      "cell_type": "code",
      "source": [
        "sentance2 =\"the dog chased cat\".split()"
      ],
      "metadata": {
        "id": "F5koeTi3HQze"
      },
      "execution_count": null,
      "outputs": []
    },
    {
      "cell_type": "code",
      "source": [
        "cnf_grammar2 = grammar2.chomsky_normal_form()"
      ],
      "metadata": {
        "id": "ZFcbevdfHZev"
      },
      "execution_count": null,
      "outputs": []
    },
    {
      "cell_type": "code",
      "source": [
        "cnf_grammar2"
      ],
      "metadata": {
        "colab": {
          "base_uri": "https://localhost:8080/"
        },
        "id": "a2ZMUCtIHgFb",
        "outputId": "74a17318-135a-4088-e8d7-f777d6f4b3d1"
      },
      "execution_count": null,
      "outputs": [
        {
          "output_type": "execute_result",
          "data": {
            "text/plain": [
              "<Grammar with 14 productions>"
            ]
          },
          "metadata": {},
          "execution_count": 16
        }
      ]
    },
    {
      "cell_type": "code",
      "source": [
        "from nltk.parse.chart import BottomUpChartParser\n",
        "parser = BottomUpChartParser(cnf_grammar2)\n",
        "parses = list(parser.parse(sentance2))"
      ],
      "metadata": {
        "id": "s1vhq6AxHnHs"
      },
      "execution_count": null,
      "outputs": []
    },
    {
      "cell_type": "code",
      "source": [
        "parses"
      ],
      "metadata": {
        "colab": {
          "base_uri": "https://localhost:8080/"
        },
        "id": "hrJ3yfH8Hsez",
        "outputId": "e5e2b1c0-8bd5-4c3e-d1bd-4d8ea173d7f2"
      },
      "execution_count": null,
      "outputs": [
        {
          "output_type": "execute_result",
          "data": {
            "text/plain": [
              "[]"
            ]
          },
          "metadata": {},
          "execution_count": 19
        }
      ]
    }
  ]
}